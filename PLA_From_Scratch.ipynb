{
 "cells": [
  {
   "cell_type": "markdown",
   "metadata": {},
   "source": [
    "# Thuật toán Perceptron Learning Algorithm"
   ]
  },
  {
   "cell_type": "markdown",
   "metadata": {},
   "source": [
    "## Bước 1: Cài đặt thư viện"
   ]
  },
  {
   "cell_type": "code",
   "execution_count": 47,
   "metadata": {},
   "outputs": [],
   "source": [
    "import numpy as np\n",
    "import matplotlib.pyplot as plt\n",
    "from sklearn.model_selection import train_test_split\n"
   ]
  },
  {
   "cell_type": "markdown",
   "metadata": {},
   "source": [
    "##  Bước 2: Chuẩn bị dữ liệu"
   ]
  },
  {
   "cell_type": "code",
   "execution_count": 48,
   "metadata": {},
   "outputs": [],
   "source": [
    "\n",
    "def prepare_data(N=100):\n",
    "    \n",
    "    # Tạo dữ liệu cho lớp 1 (nằm trên đường thẳng y = x + 1)\n",
    "    X_class_1 = np.random.randn(N, 2) + np.array([2, 7])\n",
    "    y_class_1 = np.zeros(N)  # Gán nhãn lớp 1 là 0\n",
    "\n",
    "    # Tạo dữ liệu cho lớp 2 (nằm dưới đường thẳng y = x + 1)\n",
    "    X_class_2 = np.random.randn(N, 2) + np.array([2, 1])\n",
    "    y_class_2 = np.ones(N)   # Gán nhãn lớp 2 là 1\n",
    "\n",
    "    # Kết hợp dữ liệu\n",
    "    X = np.vstack((X_class_1, X_class_2))\n",
    "    y = np.hstack((y_class_1, y_class_2))\n",
    "\n",
    "    # Chia dữ liệu thành tập huấn luyện và kiểm thử\n",
    "    X_train, X_test, y_train, y_test = train_test_split(X, y, test_size=0.3, random_state=42)\n",
    "\n",
    "    return X_train, X_test, y_train, y_test\n"
   ]
  },
  {
   "cell_type": "markdown",
   "metadata": {},
   "source": [
    "## Buớc 3: Xây dụng PLA"
   ]
  },
  {
   "cell_type": "code",
   "execution_count": 49,
   "metadata": {},
   "outputs": [],
   "source": [
    "# Class Perceptron\n",
    "class Perceptron:\n",
    "    def __init__(self, learning_rate=0.01, n_iters=1000):\n",
    "        self.learning_rate = learning_rate  # Tốc độ học\n",
    "        self.n_iters = n_iters  # Số lần lặp\n",
    "        self.weights = None  # Trọng số sẽ được khởi tạo sau\n",
    "        self.bias = None  # Bias sẽ được khởi tạo sau\n",
    "    \n",
    "    # Hàm step function (hàm kích hoạt)\n",
    "    def step_function(self, x):\n",
    "        \n",
    "        # Kiểm tra xem x có phải là mảng hay không\n",
    "        if isinstance(x, np.ndarray):\n",
    "            # Tạo một mảng rỗng có cùng kích thước với x\n",
    "            output = np.zeros_like(x)\n",
    "            \n",
    "            for i in range(len(x)):\n",
    "                output[i] = 1 if x[i] >= 0 else 0  # Gán giá trị 1 hoặc 0 dựa trên điều kiện\n",
    "        else:\n",
    "            # Nếu x là giá trị đơn, trả về 1 hoặc 0 trực tiếp\n",
    "            output = 1 if x >= 0 else 0\n",
    "        return output\n",
    "\n",
    "    \n",
    "    # Hàm khởi tạo trọng số và bias\n",
    "    def initialize_weights(self, n_features):\n",
    "        self.weights = np.zeros(n_features)  # Khởi tạo trọng số bằng 0\n",
    "        self.bias = 0  # Khởi tạo bias bằng 0\n",
    "    \n",
    "    # Huấn luyện Perceptron với kiểm tra hội tụ\n",
    "    def fit(self, X_train, y_train):\n",
    "        n_samples, n_features = X_train.shape\n",
    "        self.initialize_weights(n_features)\n",
    "        \n",
    "        for it in range(self.n_iters):\n",
    "            no_update = True  # Giả định rằng không có cập nhật trọng số nào trong lần lặp này\n",
    "            for idx, x_i in enumerate(X_train):\n",
    "                linear_output = np.dot(x_i, self.weights) + self.bias\n",
    "                y_predicted = self.step_function(linear_output)\n",
    "                \n",
    "                # Cập nhật trọng số và bias nếu phân loại sai\n",
    "                update = self.learning_rate * (y_train[idx] - y_predicted)\n",
    "                if update != 0:  # Nếu có thay đổi trong trọng số\n",
    "                    self.weights += update * x_i\n",
    "                    self.bias += update\n",
    "                    no_update = False  # Có cập nhật, nghĩa là chưa hội tụ\n",
    "\n",
    "            # Nếu không có bất kỳ thay đổi nào, thì mô hình đã hội tụ\n",
    "            if no_update:\n",
    "                print(f\"Mô hình hội tụ sau {it+1} lần lặp.\")\n",
    "                break\n",
    "        else:\n",
    "            print(f\"Mô hình chưa hội tụ sau {self.n_iters} lần lặp.\")\n",
    "\n",
    "    # Hàm dự đoán với mô hình đã huấn luyện\n",
    "    def predict(self, X):\n",
    "        linear_output = np.dot(X, self.weights) + self.bias\n",
    "        return self.step_function(linear_output)\n"
   ]
  },
  {
   "cell_type": "markdown",
   "metadata": {},
   "source": [
    "## Bước 4: Đánh giá mô hình (độ chính xác)"
   ]
  },
  {
   "cell_type": "code",
   "execution_count": 50,
   "metadata": {},
   "outputs": [],
   "source": [
    "def evaluate_model(X_test, y_test, perceptron):\n",
    "    y_pred = perceptron.predict(X_test)\n",
    "    accuracy = np.mean(y_pred == y_test) * 100\n",
    "    print(f\"Độ chính xác của mô hình: {accuracy:.2f}%\")\n",
    "    return accuracy\n"
   ]
  },
  {
   "cell_type": "markdown",
   "metadata": {},
   "source": [
    "## Bước 5: Trực quan hóa dữ liệu"
   ]
  },
  {
   "cell_type": "code",
   "execution_count": 51,
   "metadata": {},
   "outputs": [],
   "source": [
    "def plot_decision_boundary(X_train, y_train, perceptron):\n",
    "    # Lấy trọng số và bias từ mô hình Perceptron\n",
    "    weights, bias = perceptron.weights, perceptron.bias\n",
    "\n",
    "    # Vẽ dữ liệu của lớp 1 (y_train == 0) với màu xanh\n",
    "    plt.scatter(X_train[y_train == 0][:, 0], X_train[y_train == 0][:, 1], color='blue', label='Class 1')\n",
    "    # Vẽ dữ liệu của lớp 2 (y_train == 1) với màu đỏ\n",
    "    plt.scatter(X_train[y_train == 1][:, 0], X_train[y_train == 1][:, 1], color='red', label='Class 2')\n",
    "\n",
    "    # Tạo dải giá trị x cho trục hoành\n",
    "    x_values = np.linspace(np.min(X_train[:, 0]), np.max(X_train[:, 0]), 100)\n",
    "    \n",
    "    # Tính toán giá trị y cho đường quyết định dựa trên phương trình đường thẳng\n",
    "    y_values = -(weights[0] * x_values + bias) / weights[1]\n",
    "    \n",
    "    # Vẽ đường quyết định bằng đường nét đứt (k--)\n",
    "    plt.plot(x_values, y_values, 'k--', label='Đường quyết định')\n",
    "\n",
    "    # Cài đặt nhãn cho trục x\n",
    "    plt.xlabel('Đặc trưng 1')\n",
    "    # Cài đặt nhãn cho trục y\n",
    "    plt.ylabel('Đặc trưng 2')\n",
    "    # Cài đặt tiêu đề cho biểu đồ\n",
    "    plt.title('Biểu đồ phân tách các lớp')\n",
    "    # Hiển thị chú thích cho các lớp và đường quyết định\n",
    "    plt.legend()\n",
    "    # Hiển thị biểu đồ\n",
    "    plt.show()\n"
   ]
  },
  {
   "cell_type": "markdown",
   "metadata": {},
   "source": [
    "## Bước 5: Thực thi chương trình"
   ]
  },
  {
   "cell_type": "code",
   "execution_count": 52,
   "metadata": {},
   "outputs": [
    {
     "name": "stdout",
     "output_type": "stream",
     "text": [
      "Mô hình hội tụ sau 14 lần lặp.\n",
      "Độ chính xác của mô hình: 100.00%\n"
     ]
    },
    {
     "data": {
      "image/png": "[encoded data removed]",
      "text/plain": [
       "<Figure size 640x480 with 1 Axes>"
      ]
     },
     "metadata": {},
     "output_type": "display_data"
    }
   ],
   "source": [
    "# Main function để chạy toàn bộ quy trình\n",
    "def main():\n",
    "    # Chuẩn bị dữ liệu\n",
    "    X_train, X_test, y_train, y_test = prepare_data(N=100)\n",
    "\n",
    "    # Tạo mô hình Perceptron\n",
    "    perceptron = Perceptron(learning_rate=0.01, n_iters=1000)\n",
    "\n",
    "    # Huấn luyện mô hình\n",
    "    perceptron.fit(X_train, y_train)\n",
    "\n",
    "    # Dự đoán và đánh giá mô hình\n",
    "    evaluate_model(X_test, y_test, perceptron)\n",
    "\n",
    "    # Trực quan hóa đường quyết định\n",
    "    plot_decision_boundary(X_train, y_train, perceptron)\n",
    "\n",
    "# Gọi hàm main\n",
    "if __name__ == \"__main__\":\n",
    "    main()\n"
   ]
  }
 ],
 "metadata": {
  "kernelspec": {
   "display_name": "khoibui",
   "language": "python",
   "name": "python3"
  },
  "language_info": {
   "codemirror_mode": {
    "name": "ipython",
    "version": 3
   },
   "file_extension": ".py",
   "mimetype": "text/x-python",
   "name": "python",
   "nbconvert_exporter": "python",
   "pygments_lexer": "ipython3",
   "version": "3.12.3"
  }
 },
 "nbformat": 4,
 "nbformat_minor": 2
}
